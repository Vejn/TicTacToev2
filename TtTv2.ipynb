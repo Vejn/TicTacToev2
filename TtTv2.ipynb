{
 "cells": [
  {
   "cell_type": "code",
   "execution_count": 1,
   "id": "e9c39151",
   "metadata": {},
   "outputs": [],
   "source": [
    "from IPython.display import clear_output"
   ]
  },
  {
   "cell_type": "code",
   "execution_count": 2,
   "id": "c55628aa",
   "metadata": {},
   "outputs": [],
   "source": [
    "def display_board(board):\n",
    "    print(board[1]+'|'+board[2]+'|'+board[3])\n",
    "    print('-|-|-')\n",
    "    print(board[4]+'|'+board[5]+'|'+board[6])\n",
    "    print('-|-|-')\n",
    "    print(board[7]+'|'+board[8]+'|'+board[9])"
   ]
  },
  {
   "cell_type": "code",
   "execution_count": 3,
   "id": "207f4560",
   "metadata": {},
   "outputs": [],
   "source": [
    "test_board = ['#','X','O','X','O','X','O','X','O','X']"
   ]
  },
  {
   "cell_type": "code",
   "execution_count": 4,
   "id": "72667fdc",
   "metadata": {},
   "outputs": [
    {
     "name": "stdout",
     "output_type": "stream",
     "text": [
      "X|O|X\n",
      "-|-|-\n",
      "O|X|O\n",
      "-|-|-\n",
      "X|O|X\n"
     ]
    }
   ],
   "source": [
    "display_board(test_board)"
   ]
  },
  {
   "cell_type": "code",
   "execution_count": 5,
   "id": "8b37d892",
   "metadata": {},
   "outputs": [],
   "source": [
    "def player_input():\n",
    "    marker = ''\n",
    "    while marker != 'X' and marker != 'O':\n",
    "        marker = input('Player 1, choose X or O: ')\n",
    "        marker = marker.upper()\n",
    "    player1 = marker\n",
    "    player2 = ''\n",
    "    if player1 == 'X':\n",
    "        player2 = 'O'\n",
    "    else:\n",
    "        player2 = 'X'\n",
    "        \n",
    "    print(f\"Player 1 is {player1}, and player 2 is {player2} \")\n",
    "    \n",
    "    return (player1,player2)\n",
    "\n",
    "\n",
    "        "
   ]
  },
  {
   "cell_type": "code",
   "execution_count": 6,
   "id": "c192720e",
   "metadata": {},
   "outputs": [
    {
     "name": "stdout",
     "output_type": "stream",
     "text": [
      "Player 1, choose X or O: x\n",
      "Player 1 is X, and player 2 is O \n"
     ]
    }
   ],
   "source": [
    "player_mark1,player_mark2 = player_input()\n"
   ]
  },
  {
   "cell_type": "code",
   "execution_count": 7,
   "id": "976fc438",
   "metadata": {},
   "outputs": [],
   "source": [
    "def place_marker(board,marker,position):\n",
    "    board[position] = marker\n",
    "    \n",
    "    return board"
   ]
  },
  {
   "cell_type": "code",
   "execution_count": 8,
   "id": "6aa25462",
   "metadata": {},
   "outputs": [],
   "source": [
    "def win_check(board,mark):\n",
    "    if board[1]==mark and board[2]==mark and board[3]==mark:\n",
    "        print(f\"Congratulations {mark} has won!\")\n",
    "        return True\n",
    "    elif board[4]==mark and board[5]==mark and board[6]==mark:\n",
    "        print(f\"Congratulations {mark} has won!\")\n",
    "        return True\n",
    "    elif board[7]==mark and board[8]==mark and board[9]==mark:\n",
    "        print(f\"Congratulations {mark} has won!\")\n",
    "        return True\n",
    "    elif board[1]==mark and board[5]==mark and board[9]==mark:\n",
    "        print(f\"Congratulations {mark} has won!\")\n",
    "        return True\n",
    "    elif board[7]==mark and board[5]==mark and board[3]==mark:\n",
    "        print(f\"Congratulations {mark} has won!\")\n",
    "        return True\n",
    "    elif board[1]==mark and board[4]==mark and board[7]==mark:\n",
    "        print(f\"Congratulations {mark} has won!\")\n",
    "        return True\n",
    "    elif board[2]==mark and board[5]==mark and board[8]==mark:\n",
    "        print(f\"Congratulations {mark} has won!\")\n",
    "        return True\n",
    "    elif board[3]==mark and board[6]==mark and board[9]==mark:\n",
    "        print(f\"Congratulations {mark} has won!\")\n",
    "        return True\n",
    "    else:\n",
    "        return False"
   ]
  },
  {
   "cell_type": "code",
   "execution_count": 9,
   "id": "1d4dc69f",
   "metadata": {},
   "outputs": [],
   "source": [
    "import random"
   ]
  },
  {
   "cell_type": "code",
   "execution_count": 10,
   "id": "59bf20c6",
   "metadata": {},
   "outputs": [],
   "source": [
    "def choose_first():\n",
    "    x = random.randint(1,2)\n",
    "    if x == 1:\n",
    "        return \"Player 1\"\n",
    "    else:\n",
    "        return \"Player 2\""
   ]
  },
  {
   "cell_type": "code",
   "execution_count": 11,
   "id": "e5147dab",
   "metadata": {},
   "outputs": [
    {
     "data": {
      "text/plain": [
       "'Player 1'"
      ]
     },
     "execution_count": 11,
     "metadata": {},
     "output_type": "execute_result"
    }
   ],
   "source": [
    "choose_first()"
   ]
  },
  {
   "cell_type": "code",
   "execution_count": 12,
   "id": "6461d921",
   "metadata": {},
   "outputs": [],
   "source": [
    "def space_check(board,position):\n",
    "    return board[position] == ' '\n",
    "        "
   ]
  },
  {
   "cell_type": "code",
   "execution_count": 13,
   "id": "a94a6e73",
   "metadata": {},
   "outputs": [],
   "source": [
    "def board_full(board):\n",
    "    for x in range(1,10):\n",
    "        if space_check(board,x):\n",
    "            return False\n",
    "    else:\n",
    "        return True"
   ]
  },
  {
   "cell_type": "code",
   "execution_count": 14,
   "id": "66d49d57",
   "metadata": {},
   "outputs": [],
   "source": [
    "def player_choice(board):\n",
    "    position = 0\n",
    "    while position not in [1,2,3,4,5,6,7,8,9] or not space_check(board,position):\n",
    "        position = int(input(\"Please choose position to put your mark (1-9)\"))\n",
    "    return position"
   ]
  },
  {
   "cell_type": "code",
   "execution_count": 15,
   "id": "7b591951",
   "metadata": {},
   "outputs": [],
   "source": [
    "def replay():\n",
    "    return input(\"Do you want to play again? y/n: \").lower().startswith('y')"
   ]
  },
  {
   "cell_type": "code",
   "execution_count": null,
   "id": "ad3cb282",
   "metadata": {},
   "outputs": [],
   "source": []
  },
  {
   "cell_type": "code",
   "execution_count": null,
   "id": "79452646",
   "metadata": {},
   "outputs": [],
   "source": [
    "print(\"Welcome to the Tic Tac Toe\")\n",
    "\n",
    "while True:\n",
    "    theboard = [\" \"]*10\n",
    "    player1_marker,player2_marker = player_input()\n",
    "    turn = choose_first()\n",
    "    print(turn + \" will go first!\")\n",
    "    \n",
    "    play_game = input(\"Are you ready to play?y/n \")\n",
    "    \n",
    "    if play_game.lower()[0] == 'y':\n",
    "        game_on = True\n",
    "        \n",
    "    else:\n",
    "        game_on = False\n",
    "        \n",
    "    \n",
    "    while game_on:\n",
    "        if turn == \"Player 1\":\n",
    "            display_board(theboard)\n",
    "            position = player_choice(theboard)\n",
    "            place_marker(theboard,player1_marker,position)\n",
    "            \n",
    "            if win_check(theboard,player1_marker):\n",
    "                print(\"Congratulations, Player 1 has won the game!!\")\n",
    "                game_on = False\n",
    "            else:\n",
    "                if board_full(theboard):\n",
    "                    display_board(theboard)\n",
    "                    print(\"It's Draw\")\n",
    "                    break\n",
    "                else:\n",
    "                    turn = \"Player 2\"\n",
    "                    \n",
    "        else:\n",
    "            display_board(theboard)\n",
    "            position = player_choice(theboard)\n",
    "            place_marker(theboard,player2_marker,position)\n",
    "            \n",
    "            if win_check(theboard,player2_marker):\n",
    "                display_board(theboard)\n",
    "                print(\"Congratulations, Player2 has won the game!\")\n",
    "                game_on = False\n",
    "            else:\n",
    "                if board_full(theboard):\n",
    "                    display_board(theboard)\n",
    "                    print(\"It's Draw\")\n",
    "                    break\n",
    "                else:\n",
    "                    turn = \"Player 1\"\n",
    "    \n",
    "    if not replay():\n",
    "        break"
   ]
  },
  {
   "cell_type": "code",
   "execution_count": null,
   "id": "08cbffa4",
   "metadata": {},
   "outputs": [],
   "source": []
  }
 ],
 "metadata": {
  "kernelspec": {
   "display_name": "Python 3 (ipykernel)",
   "language": "python",
   "name": "python3"
  },
  "language_info": {
   "codemirror_mode": {
    "name": "ipython",
    "version": 3
   },
   "file_extension": ".py",
   "mimetype": "text/x-python",
   "name": "python",
   "nbconvert_exporter": "python",
   "pygments_lexer": "ipython3",
   "version": "3.9.7"
  }
 },
 "nbformat": 4,
 "nbformat_minor": 5
}
